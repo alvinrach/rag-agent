{
 "cells": [
  {
   "cell_type": "code",
   "execution_count": 1,
   "id": "56725ce3-2f63-46cc-ade7-09d0f9a3e852",
   "metadata": {},
   "outputs": [],
   "source": [
    "from beyondllm import source, llms, retrieve, generator\n",
    "from beyondllm.embeddings import FineTuneEmbeddings"
   ]
  },
  {
   "cell_type": "code",
   "execution_count": 5,
   "id": "27e43e08-2874-4080-b5aa-2719a91c7484",
   "metadata": {},
   "outputs": [
    {
     "name": "stdin",
     "output_type": "stream",
     "text": [
      "Enter Your Google API Key ········\n"
     ]
    }
   ],
   "source": [
    "from getpass import getpass\n",
    "import os\n",
    "\n",
    "google_api_key = getpass('Enter Your Google API Key')\n",
    "os.environ['GOOGLE_API_KEY'] = google_api_key"
   ]
  },
  {
   "cell_type": "code",
   "execution_count": 3,
   "id": "fd43c7b2-3a59-40f1-8a02-b0ae3fef19af",
   "metadata": {},
   "outputs": [],
   "source": [
    "path = \"DS-Alvin Rachmat 28 Aug 24 v4.32.pdf\"\n",
    "data = source.fit(path, dtype=\"pdf\", chunk_size=10000, chunk_overlap=0)"
   ]
  },
  {
   "cell_type": "code",
   "execution_count": 4,
   "id": "aeaaf1c8-1118-4855-b18e-5a2b333a1587",
   "metadata": {},
   "outputs": [],
   "source": [
    "llm = llms.GeminiModel()"
   ]
  },
  {
   "cell_type": "code",
   "execution_count": 5,
   "id": "1fa660a8-2503-4ed9-ad44-c79bee331686",
   "metadata": {},
   "outputs": [],
   "source": [
    "fine_tuned_model = FineTuneEmbeddings()"
   ]
  },
  {
   "cell_type": "code",
   "execution_count": 6,
   "id": "b74ec41d-39a3-4e8a-b4b8-649e57753aab",
   "metadata": {},
   "outputs": [
    {
     "name": "stderr",
     "output_type": "stream",
     "text": [
      "Parsing nodes: 100%|███████████████| 2/2 [00:00<00:00, 1025.13it/s]\n"
     ]
    },
    {
     "name": "stdout",
     "output_type": "stream",
     "text": [
      "Parsed 2 nodes\n"
     ]
    },
    {
     "name": "stderr",
     "output_type": "stream",
     "text": [
      "Parsing nodes: 100%|████████████████| 1/1 [00:00<00:00, 993.44it/s]\n"
     ]
    },
    {
     "name": "stdout",
     "output_type": "stream",
     "text": [
      "Parsed 1 nodes\n"
     ]
    },
    {
     "name": "stderr",
     "output_type": "stream",
     "text": [
      "100%|████████████████████████████████| 2/2 [00:14<00:00,  7.03s/it]\n",
      "100%|████████████████████████████████| 1/1 [00:01<00:00,  1.63s/it]\n"
     ]
    },
    {
     "name": "stdout",
     "output_type": "stream",
     "text": [
      "INFO:sentence_transformers.SentenceTransformer:Load pretrained SentenceTransformer: BAAI/bge-small-en-v1.5\n",
      "Load pretrained SentenceTransformer: BAAI/bge-small-en-v1.5\n",
      "INFO:sentence_transformers.SentenceTransformer:Use pytorch device_name: cuda\n",
      "Use pytorch device_name: cuda\n"
     ]
    },
    {
     "name": "stderr",
     "output_type": "stream",
     "text": [
      "Epoch:   0%|                                 | 0/2 [00:00<?, ?it/s]\n",
      "Iteration:   0%|                             | 0/1 [00:00<?, ?it/s]\u001b[A\n",
      "Iteration: 100%|█████████████████████| 1/1 [00:00<00:00,  1.03it/s]\u001b[A"
     ]
    },
    {
     "name": "stdout",
     "output_type": "stream",
     "text": [
      "INFO:sentence_transformers.evaluation.InformationRetrievalEvaluator:Information Retrieval Evaluation of the model on the  dataset after epoch 0:\n",
      "Information Retrieval Evaluation of the model on the  dataset after epoch 0:\n",
      "INFO:sentence_transformers.evaluation.InformationRetrievalEvaluator:Queries: 4\n",
      "Queries: 4\n",
      "INFO:sentence_transformers.evaluation.InformationRetrievalEvaluator:Corpus: 1\n",
      "\n",
      "Corpus: 1\n",
      "\n",
      "INFO:sentence_transformers.evaluation.InformationRetrievalEvaluator:Score-Function: cos_sim\n",
      "Score-Function: cos_sim\n",
      "INFO:sentence_transformers.evaluation.InformationRetrievalEvaluator:Accuracy@1: 100.00%\n",
      "Accuracy@1: 100.00%\n",
      "INFO:sentence_transformers.evaluation.InformationRetrievalEvaluator:Accuracy@3: 100.00%\n",
      "Accuracy@3: 100.00%\n",
      "INFO:sentence_transformers.evaluation.InformationRetrievalEvaluator:Accuracy@5: 100.00%\n",
      "Accuracy@5: 100.00%\n",
      "INFO:sentence_transformers.evaluation.InformationRetrievalEvaluator:Accuracy@10: 100.00%\n",
      "Accuracy@10: 100.00%\n",
      "INFO:sentence_transformers.evaluation.InformationRetrievalEvaluator:Precision@1: 100.00%\n",
      "Precision@1: 100.00%\n",
      "INFO:sentence_transformers.evaluation.InformationRetrievalEvaluator:Precision@3: 33.33%\n",
      "Precision@3: 33.33%\n",
      "INFO:sentence_transformers.evaluation.InformationRetrievalEvaluator:Precision@5: 20.00%\n",
      "Precision@5: 20.00%\n",
      "INFO:sentence_transformers.evaluation.InformationRetrievalEvaluator:Precision@10: 10.00%\n",
      "Precision@10: 10.00%\n",
      "INFO:sentence_transformers.evaluation.InformationRetrievalEvaluator:Recall@1: 100.00%\n",
      "Recall@1: 100.00%\n",
      "INFO:sentence_transformers.evaluation.InformationRetrievalEvaluator:Recall@3: 100.00%\n",
      "Recall@3: 100.00%\n",
      "INFO:sentence_transformers.evaluation.InformationRetrievalEvaluator:Recall@5: 100.00%\n",
      "Recall@5: 100.00%\n",
      "INFO:sentence_transformers.evaluation.InformationRetrievalEvaluator:Recall@10: 100.00%\n",
      "Recall@10: 100.00%\n",
      "INFO:sentence_transformers.evaluation.InformationRetrievalEvaluator:MRR@10: 1.0000\n",
      "MRR@10: 1.0000\n",
      "INFO:sentence_transformers.evaluation.InformationRetrievalEvaluator:NDCG@10: 1.0000\n",
      "NDCG@10: 1.0000\n",
      "INFO:sentence_transformers.evaluation.InformationRetrievalEvaluator:MAP@100: 1.0000\n",
      "MAP@100: 1.0000\n",
      "INFO:sentence_transformers.evaluation.InformationRetrievalEvaluator:Score-Function: dot_score\n",
      "Score-Function: dot_score\n",
      "INFO:sentence_transformers.evaluation.InformationRetrievalEvaluator:Accuracy@1: 100.00%\n",
      "Accuracy@1: 100.00%\n",
      "INFO:sentence_transformers.evaluation.InformationRetrievalEvaluator:Accuracy@3: 100.00%\n",
      "Accuracy@3: 100.00%\n",
      "INFO:sentence_transformers.evaluation.InformationRetrievalEvaluator:Accuracy@5: 100.00%\n",
      "Accuracy@5: 100.00%\n",
      "INFO:sentence_transformers.evaluation.InformationRetrievalEvaluator:Accuracy@10: 100.00%\n",
      "Accuracy@10: 100.00%\n",
      "INFO:sentence_transformers.evaluation.InformationRetrievalEvaluator:Precision@1: 100.00%\n",
      "Precision@1: 100.00%\n",
      "INFO:sentence_transformers.evaluation.InformationRetrievalEvaluator:Precision@3: 33.33%\n",
      "Precision@3: 33.33%\n",
      "INFO:sentence_transformers.evaluation.InformationRetrievalEvaluator:Precision@5: 20.00%\n",
      "Precision@5: 20.00%\n",
      "INFO:sentence_transformers.evaluation.InformationRetrievalEvaluator:Precision@10: 10.00%\n",
      "Precision@10: 10.00%\n",
      "INFO:sentence_transformers.evaluation.InformationRetrievalEvaluator:Recall@1: 100.00%\n",
      "Recall@1: 100.00%\n",
      "INFO:sentence_transformers.evaluation.InformationRetrievalEvaluator:Recall@3: 100.00%\n",
      "Recall@3: 100.00%\n",
      "INFO:sentence_transformers.evaluation.InformationRetrievalEvaluator:Recall@5: 100.00%\n",
      "Recall@5: 100.00%\n",
      "INFO:sentence_transformers.evaluation.InformationRetrievalEvaluator:Recall@10: 100.00%\n",
      "Recall@10: 100.00%\n",
      "INFO:sentence_transformers.evaluation.InformationRetrievalEvaluator:MRR@10: 1.0000\n",
      "MRR@10: 1.0000\n",
      "INFO:sentence_transformers.evaluation.InformationRetrievalEvaluator:NDCG@10: 1.0000\n",
      "NDCG@10: 1.0000\n",
      "INFO:sentence_transformers.evaluation.InformationRetrievalEvaluator:MAP@100: 1.0000\n",
      "MAP@100: 1.0000\n",
      "INFO:sentence_transformers.SentenceTransformer:Save model to fintune\n",
      "Save model to fintune\n"
     ]
    },
    {
     "name": "stderr",
     "output_type": "stream",
     "text": [
      "\n",
      "Epoch:  50%|████████████▌            | 1/2 [00:01<00:01,  1.52s/it]\n",
      "Iteration:   0%|                             | 0/1 [00:00<?, ?it/s]\u001b[A\n",
      "Iteration: 100%|█████████████████████| 1/1 [00:00<00:00,  2.69it/s]\u001b[A"
     ]
    },
    {
     "name": "stdout",
     "output_type": "stream",
     "text": [
      "INFO:sentence_transformers.evaluation.InformationRetrievalEvaluator:Information Retrieval Evaluation of the model on the  dataset after epoch 1:\n",
      "Information Retrieval Evaluation of the model on the  dataset after epoch 1:\n",
      "INFO:sentence_transformers.evaluation.InformationRetrievalEvaluator:Queries: 4\n",
      "Queries: 4\n",
      "INFO:sentence_transformers.evaluation.InformationRetrievalEvaluator:Corpus: 1\n",
      "\n",
      "Corpus: 1\n",
      "\n",
      "INFO:sentence_transformers.evaluation.InformationRetrievalEvaluator:Score-Function: cos_sim\n",
      "Score-Function: cos_sim\n",
      "INFO:sentence_transformers.evaluation.InformationRetrievalEvaluator:Accuracy@1: 100.00%\n",
      "Accuracy@1: 100.00%\n",
      "INFO:sentence_transformers.evaluation.InformationRetrievalEvaluator:Accuracy@3: 100.00%\n",
      "Accuracy@3: 100.00%\n",
      "INFO:sentence_transformers.evaluation.InformationRetrievalEvaluator:Accuracy@5: 100.00%\n",
      "Accuracy@5: 100.00%\n",
      "INFO:sentence_transformers.evaluation.InformationRetrievalEvaluator:Accuracy@10: 100.00%\n",
      "Accuracy@10: 100.00%\n",
      "INFO:sentence_transformers.evaluation.InformationRetrievalEvaluator:Precision@1: 100.00%\n",
      "Precision@1: 100.00%\n",
      "INFO:sentence_transformers.evaluation.InformationRetrievalEvaluator:Precision@3: 33.33%\n",
      "Precision@3: 33.33%\n",
      "INFO:sentence_transformers.evaluation.InformationRetrievalEvaluator:Precision@5: 20.00%\n",
      "Precision@5: 20.00%\n",
      "INFO:sentence_transformers.evaluation.InformationRetrievalEvaluator:Precision@10: 10.00%\n",
      "Precision@10: 10.00%\n",
      "INFO:sentence_transformers.evaluation.InformationRetrievalEvaluator:Recall@1: 100.00%\n",
      "Recall@1: 100.00%\n",
      "INFO:sentence_transformers.evaluation.InformationRetrievalEvaluator:Recall@3: 100.00%\n",
      "Recall@3: 100.00%\n",
      "INFO:sentence_transformers.evaluation.InformationRetrievalEvaluator:Recall@5: 100.00%\n",
      "Recall@5: 100.00%\n",
      "INFO:sentence_transformers.evaluation.InformationRetrievalEvaluator:Recall@10: 100.00%\n",
      "Recall@10: 100.00%\n",
      "INFO:sentence_transformers.evaluation.InformationRetrievalEvaluator:MRR@10: 1.0000\n",
      "MRR@10: 1.0000\n",
      "INFO:sentence_transformers.evaluation.InformationRetrievalEvaluator:NDCG@10: 1.0000\n",
      "NDCG@10: 1.0000\n",
      "INFO:sentence_transformers.evaluation.InformationRetrievalEvaluator:MAP@100: 1.0000\n",
      "MAP@100: 1.0000\n",
      "INFO:sentence_transformers.evaluation.InformationRetrievalEvaluator:Score-Function: dot_score\n",
      "Score-Function: dot_score\n",
      "INFO:sentence_transformers.evaluation.InformationRetrievalEvaluator:Accuracy@1: 100.00%\n",
      "Accuracy@1: 100.00%\n",
      "INFO:sentence_transformers.evaluation.InformationRetrievalEvaluator:Accuracy@3: 100.00%\n",
      "Accuracy@3: 100.00%\n",
      "INFO:sentence_transformers.evaluation.InformationRetrievalEvaluator:Accuracy@5: 100.00%\n",
      "Accuracy@5: 100.00%\n",
      "INFO:sentence_transformers.evaluation.InformationRetrievalEvaluator:Accuracy@10: 100.00%\n",
      "Accuracy@10: 100.00%\n",
      "INFO:sentence_transformers.evaluation.InformationRetrievalEvaluator:Precision@1: 100.00%\n",
      "Precision@1: 100.00%\n",
      "INFO:sentence_transformers.evaluation.InformationRetrievalEvaluator:Precision@3: 33.33%\n",
      "Precision@3: 33.33%\n",
      "INFO:sentence_transformers.evaluation.InformationRetrievalEvaluator:Precision@5: 20.00%\n",
      "Precision@5: 20.00%\n",
      "INFO:sentence_transformers.evaluation.InformationRetrievalEvaluator:Precision@10: 10.00%\n",
      "Precision@10: 10.00%\n",
      "INFO:sentence_transformers.evaluation.InformationRetrievalEvaluator:Recall@1: 100.00%\n",
      "Recall@1: 100.00%\n",
      "INFO:sentence_transformers.evaluation.InformationRetrievalEvaluator:Recall@3: 100.00%\n",
      "Recall@3: 100.00%\n",
      "INFO:sentence_transformers.evaluation.InformationRetrievalEvaluator:Recall@5: 100.00%\n",
      "Recall@5: 100.00%\n",
      "INFO:sentence_transformers.evaluation.InformationRetrievalEvaluator:Recall@10: 100.00%\n",
      "Recall@10: 100.00%\n",
      "INFO:sentence_transformers.evaluation.InformationRetrievalEvaluator:MRR@10: 1.0000\n",
      "MRR@10: 1.0000\n",
      "INFO:sentence_transformers.evaluation.InformationRetrievalEvaluator:NDCG@10: 1.0000\n",
      "NDCG@10: 1.0000\n",
      "INFO:sentence_transformers.evaluation.InformationRetrievalEvaluator:MAP@100: 1.0000\n",
      "MAP@100: 1.0000\n"
     ]
    },
    {
     "name": "stderr",
     "output_type": "stream",
     "text": [
      "\n",
      "Epoch: 100%|█████████████████████████| 2/2 [00:02<00:00,  1.02s/it]"
     ]
    },
    {
     "name": "stdout",
     "output_type": "stream",
     "text": [
      "INFO:sentence_transformers.SentenceTransformer:Load pretrained SentenceTransformer: fintune\n",
      "Load pretrained SentenceTransformer: fintune\n"
     ]
    },
    {
     "name": "stderr",
     "output_type": "stream",
     "text": [
      "\n"
     ]
    },
    {
     "name": "stdout",
     "output_type": "stream",
     "text": [
      "INFO:sentence_transformers.SentenceTransformer:2 prompts are loaded, with the keys: ['query', 'text']\n",
      "2 prompts are loaded, with the keys: ['query', 'text']\n"
     ]
    }
   ],
   "source": [
    "embed_model = fine_tuned_model.train([path], \"BAAI/bge-small-en-v1.5\", llm, \"fintune\")"
   ]
  },
  {
   "cell_type": "code",
   "execution_count": 7,
   "id": "b01752e1-24ec-4b75-8f7e-4c166f502d90",
   "metadata": {},
   "outputs": [
    {
     "name": "stdout",
     "output_type": "stream",
     "text": [
      "INFO:sentence_transformers.SentenceTransformer:Load pretrained SentenceTransformer: fintune\n",
      "Load pretrained SentenceTransformer: fintune\n",
      "INFO:sentence_transformers.SentenceTransformer:2 prompts are loaded, with the keys: ['query', 'text']\n",
      "2 prompts are loaded, with the keys: ['query', 'text']\n"
     ]
    }
   ],
   "source": [
    "embed_model = fine_tuned_model.load_model(\"fintune\")\n",
    "retriever = retrieve.auto_retriever(data, embed_model, type=\"normal\", top_k=4)"
   ]
  },
  {
   "cell_type": "code",
   "execution_count": 15,
   "id": "78dfd6b9-d55d-41eb-abd2-b5b18920e1e9",
   "metadata": {},
   "outputs": [],
   "source": [
    "# print(retriever.retrieve(\"where was Alvin study at\")[0].text)"
   ]
  },
  {
   "cell_type": "code",
   "execution_count": 9,
   "id": "fe95f15c-e91d-488f-90bf-421d5b39364a",
   "metadata": {},
   "outputs": [
    {
     "name": "stderr",
     "output_type": "stream",
     "text": [
      "Batches: 100%|███████████████████████| 1/1 [00:00<00:00, 22.12it/s]\n",
      "Batches: 100%|██████████████████████| 1/1 [00:00<00:00, 163.45it/s]\n"
     ]
    }
   ],
   "source": [
    "pipeline = generator.Generate(question=\"Explain any alvin's cloud related work\",retriever=retriever,llm=llm)"
   ]
  },
  {
   "cell_type": "code",
   "execution_count": 10,
   "id": "f10a3ff9-bacd-43cd-8f6a-72f3aa3a7617",
   "metadata": {},
   "outputs": [
    {
     "name": "stdout",
     "output_type": "stream",
     "text": [
      "Alvin has experience with Google Cloud, Microsoft Azure, and FastAPI. He has used Google Cloud for Compute Engine, Cloud Run, Cloud Storage, Logging Sink, Pub/Sub, Cloud Build and Trigger, Cloud Artifact, Vertex, and more. He has also used Microsoft Azure and FastAPI for various projects.\n"
     ]
    }
   ],
   "source": [
    "print(pipeline.call())"
   ]
  },
  {
   "cell_type": "code",
   "execution_count": 11,
   "id": "2cedea7d-6c35-4b57-8fe8-fd756ba80d9b",
   "metadata": {},
   "outputs": [
    {
     "name": "stdout",
     "output_type": "stream",
     "text": [
      "Executing RAG Triad Evaluations...\n",
      "Context relevancy Score: 1.0\n",
      "This response does not meet the evaluation threshold. Consider refining the structure and content for better clarity and effectiveness.\n",
      "Answer relevancy Score: 8.0\n",
      "This response meets the evaluation threshold. It demonstrates strong comprehension and coherence.\n",
      "Groundness score: 7.0\n",
      "This response does not meet the evaluation threshold. Consider refining the structure and content for better clarity and effectiveness.\n"
     ]
    }
   ],
   "source": [
    "print(pipeline.get_rag_triad_evals())"
   ]
  },
  {
   "cell_type": "code",
   "execution_count": null,
   "id": "97f6ee6c-988e-475a-b48a-298dbc944bd6",
   "metadata": {},
   "outputs": [],
   "source": []
  }
 ],
 "metadata": {
  "kernelspec": {
   "display_name": "Python 3 (ipykernel)",
   "language": "python",
   "name": "python3"
  },
  "language_info": {
   "codemirror_mode": {
    "name": "ipython",
    "version": 3
   },
   "file_extension": ".py",
   "mimetype": "text/x-python",
   "name": "python",
   "nbconvert_exporter": "python",
   "pygments_lexer": "ipython3",
   "version": "3.10.14"
  }
 },
 "nbformat": 4,
 "nbformat_minor": 5
}
